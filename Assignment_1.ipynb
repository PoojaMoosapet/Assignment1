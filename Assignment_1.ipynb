{
  "nbformat": 4,
  "nbformat_minor": 0,
  "metadata": {
    "colab": {
      "provenance": [],
      "include_colab_link": true
    },
    "kernelspec": {
      "name": "python3",
      "display_name": "Python 3"
    },
    "language_info": {
      "name": "python"
    }
  },
  "cells": [
    {
      "cell_type": "markdown",
      "metadata": {
        "id": "view-in-github",
        "colab_type": "text"
      },
      "source": [
        "<a href=\"https://colab.research.google.com/github/PoojaMoosapet/Assignment1/blob/main/Assignment_1.ipynb\" target=\"_parent\"><img src=\"https://colab.research.google.com/assets/colab-badge.svg\" alt=\"Open In Colab\"/></a>"
      ]
    },
    {
      "cell_type": "code",
      "execution_count": 16,
      "metadata": {
        "id": "43tOY-O490yk",
        "colab": {
          "base_uri": "https://localhost:8080/"
        },
        "outputId": "c8c47a4e-6035-434d-d4e5-2090080c8d48"
      },
      "outputs": [
        {
          "output_type": "stream",
          "name": "stdout",
          "text": [
            "Sorted list of ages: [19, 19, 20, 22, 24, 24, 24, 25, 25, 26]\n",
            "Minimum age = 19 Maximum age = 26\n",
            "After appending the elements:  [19, 19, 20, 22, 24, 24, 24, 25, 25, 26, 19, 26]\n",
            "Median of ages : 24\n",
            "Average of student ages : 22.75\n",
            "Range of ages : 7\n"
          ]
        }
      ],
      "source": [
        "# Question 1\n",
        "\n",
        "ages = [19, 22, 19, 24, 20, 25, 26, 24, 25, 24]\n",
        "sorted_ages_list = sorted(ages)\n",
        "\n",
        "#1 Finding the minumum and maximum age of students  by using the sorting technique.\n",
        "print(\"Sorted list of ages:\",sorted_ages_list)\n",
        "print(\"Minimum age =\",sorted_ages_list[0],\"Maximum age =\",sorted_ages_list[-1])\n",
        "min = sorted_ages_list[0] # indexing is used to get mim and max values\n",
        "max = sorted_ages_list[-1]\n",
        "\n",
        "#2 Adding again the minimum age and maximum age of the student to the list.\n",
        "sorted_ages_list.append(min) #append() is used to add values to list\n",
        "sorted_ages_list.append(max)\n",
        "\n",
        "length = len(sorted_ages_list)\n",
        "print(\"After appending the elements: \",sorted_ages_list)\n",
        "\n",
        "#3 Finding the median age which is two middle items devided by two.\n",
        "if length % 2 == 0 :\n",
        "    median_1 = sorted_ages_list[length//2]\n",
        "    median_2 = sorted_ages_list[length//2 - 1]\n",
        "    median = (median_1+median_2)//2\n",
        "    print(\"Median of ages :\",median)\n",
        "else :\n",
        "  median=sorted_ages_list[length//2]\n",
        "  print(\"Median of ages = \",median)\n",
        "\n",
        "#4 Finding the sum of the ages which is sum of all items divided by their number.\n",
        "length = len(sorted_ages_list)\n",
        "sum = 0\n",
        "for i in range (0,length,1):\n",
        "  sum = sum + sorted_ages_list[i]\n",
        "\n",
        "#5 Finding the average age of the students\n",
        "average = sum/length\n",
        "print(\"Average of student ages :\",average)\n",
        "\n",
        "#6 Finding the range of the ages which is max age minus min age.\n",
        "Range = sorted_ages_list[-1] - sorted_ages_list[0]\n",
        "print(\"Range of ages :\",Range)"
      ]
    },
    {
      "cell_type": "code",
      "source": [
        "# Question 2\n",
        "#1 Creating a empty dictionary named as dog\n",
        "dog = {}\n",
        "#2 Adding the keys or attributes like name, color, breed, legs, age to the dog dictionary\n",
        "dog = {\"name\":None, \"color\":None, \"breed\":None, \"legs\":None, \"age\":None}\n",
        "#3 Creating a student dictionary with attributes like first_name, last_name, gender, age, marital status,skills, country, city and address for the dictionary\n",
        "student = {\n",
        "    \"first_name\":None,\n",
        "    \"last_name\":None, \n",
        "    \"gender\":None, \n",
        "    \"age\":None,\n",
        "    \"marital status\":None,\n",
        "    \"skills\":None, \n",
        "    \"country\":None, \n",
        "    \"city\":None, \n",
        "    \"address\":None\n",
        "}\n",
        "#4 Finding the length of the student dictionary\n",
        "print(\"\\nLength of Student dictionary is : \",len(student))\n",
        "\n",
        "student = {\n",
        "    \"first_name\":'Pooja',\n",
        "    \"last_name\":'Moosapet', \n",
        "    \"gender\":'Female', \n",
        "    \"age\":'30',\n",
        "    \"marital status\": 'Unmarried',\n",
        "    \"skills\":['Innovative thinking','Acceting the challenges'], \n",
        "    \"country\":'United states', \n",
        "    \"city\":'Overland park', \n",
        "    \"address\":'108th st 5000W'\n",
        "}\n",
        "print(\"\\nType :\",type(student['skills'])) #type() method is used to check datatype\n",
        "#value of skills and check the data type\n",
        "print(\"\\nStudent skills :\",student.get('skills'))\n",
        "#Modify the skills values by adding one or two skills\n",
        "student['skills'].append(\"Pressure handling\") #append() is add values to the list\n",
        "print(\"\\nSkills are adding an extra skill:\",student.get('skills'))\n",
        "#Get the dictionary keys as a list\n",
        "print(\"\\nThe attributes in student dictionary :\",student.keys()) #keys() returns keys in the dictionary\n",
        "#Get the dictionary values as a list\n",
        "print(\"\\nValues in student dictionary :\",student.values()) #values() returns values in the dictionary\n"
      ],
      "metadata": {
        "colab": {
          "base_uri": "https://localhost:8080/"
        },
        "id": "Vj1ikDU5UcEi",
        "outputId": "584cce7c-ffa3-4075-c61d-1eea95d1775a"
      },
      "execution_count": 17,
      "outputs": [
        {
          "output_type": "stream",
          "name": "stdout",
          "text": [
            "\n",
            "Length of Student dictionary is :  9\n",
            "\n",
            "Type : <class 'list'>\n",
            "\n",
            "Student skills : ['Innovative thinking', 'Acceting the challenges']\n",
            "\n",
            "Skills are adding an extra skill: ['Innovative thinking', 'Acceting the challenges', 'Pressure handling']\n",
            "\n",
            "The attributes in student dictionary : dict_keys(['first_name', 'last_name', 'gender', 'age', 'marital status', 'skills', 'country', 'city', 'address'])\n",
            "\n",
            "Values in student dictionary : dict_values(['Pooja', 'Moosapet', 'Female', '30', 'Unmarried', ['Innovative thinking', 'Acceting the challenges', 'Pressure handling'], 'United states', 'Overland park', '108th st 5000W'])\n"
          ]
        }
      ]
    },
    {
      "cell_type": "code",
      "source": [
        "# Question 3\n",
        "#1 Creating a tuple which contains names of the siblings.\n",
        "\n",
        "brothers = (\"Kranthi\", \"Kondi\")\n",
        "sisters = (\"Tejaswi\", \"Sowmya\")\n",
        "#2 Joining two tuples amd assigning them to siblings and finding the length of the siblings.\n",
        "siblings = brothers+sisters # + operand is used concatenate 2 tuples\n",
        "print(\"\\nAfter adding brothers and sisters: \",siblings)\n",
        "print(\"\\nThe length of siblings :\",len(siblings)) #len() returns lenght of tuple.\n",
        "#3 Modifying siblings tuple and adding father and mother names to family members.\n",
        "siblings = siblings + (\"Father_name\",\"Mother_name\")\n",
        "#4 Adding the updated names to the family_members\n",
        "family_members = siblings\n",
        "print(\"\\nAdding father and mother name :\",family_members,\"\\n\")  "
      ],
      "metadata": {
        "colab": {
          "base_uri": "https://localhost:8080/"
        },
        "id": "EIPTjjNWcbRo",
        "outputId": "d1707dcd-7883-43dc-a1ee-c1a8ce40639e"
      },
      "execution_count": 18,
      "outputs": [
        {
          "output_type": "stream",
          "name": "stdout",
          "text": [
            "\n",
            "After adding brothers and sisters:  ('Kranthi', 'Kondi', 'Tejaswi', 'Sowmya')\n",
            "\n",
            "The length of siblings : 4\n",
            "\n",
            "Adding father and mother name : ('Kranthi', 'Kondi', 'Tejaswi', 'Sowmya', 'Father_name', 'Mother_name') \n",
            "\n"
          ]
        }
      ]
    },
    {
      "cell_type": "code",
      "source": [
        "# Question 4\n",
        "\n",
        "it_companies = {'Facebook', 'Google', 'Microsoft', 'Apple', 'IBM', 'Oracle', 'Amazon'}\n",
        "A = {19, 22, 24, 20, 25, 26}\n",
        "B = {19, 22, 20, 25, 26, 24, 28, 27}\n",
        "age = [22, 19, 24, 25, 26, 24, 25, 24]\n",
        "\n",
        "#1 Finding the length of set it_companies\n",
        "length = len(it_companies)\n",
        "print(\"Length :\",length)\n",
        "print(\"\\nit_companies:\", it_companies)\n",
        "\n",
        "#2 Adding 'Twitter' to it_companies\n",
        "it_companies.add('Twitter') # add() is used add elements in the list\n",
        "print(\"\\nAter adding a company, it_companies:\",it_companies)\n",
        "\n",
        "#3 Inserting multiple IT companies at once to set it_companies\n",
        "new_companies = ['mindtree','accenture','sigma']\n",
        "it_companies.update(new_companies) #update() is used add multiple companies to the list\n",
        "print(\"\\nAter adding multiple companies, it_companies:\",it_companies)\n",
        "\n",
        "#4 Remove one of the companies from the set it_companies\n",
        "it_companies.remove('Apple') #remove is used remove the elements from the list\n",
        "print(\"\\nAter deleting a company(i.e., Apple) it_companies: \",it_companies)\n",
        "\n",
        "#5 What is the difference between remove and discard\n",
        "'''\n",
        "The difference between remove and discard is if we want to delete an element in the set that is not\n",
        "present in the set by using remove then gives an error whereas discard\n",
        "doesn't show any error it just keeps the set un disturbed\n",
        "'''\n",
        "print(\"\\ndicard usage\",it_companies.discard('Tekaroon')) # discard() is used to discard the elements\n",
        "\n",
        "#6 Joining A and B\n",
        "c=B.union(A) #union() is used to join 2 sets\n",
        "print(\"\\nAfter joining A and B, the resultant set:\",c)\n",
        "\n",
        "#7 Finding A intersection B\n",
        "Common = A.intersection(B) #intersection() is used to get common elements in the set\n",
        "print(\"\\nIntersection set :\",Common)\n",
        "\n",
        "#8 Is A subset of B ?\n",
        "print(\"\\nA is subset of B (True/False) :\",A.issubset(B)) #issubset() returns boolean\n",
        "\n",
        "#9 Are A and B disjoint sets\n",
        "print(\"\\nAre A and B disjoint sets (True/False) :\",A.isdisjoint(B)) #isdisjoint() returns boolean\n",
        "\n",
        "#10 Joining A with B and B with A?\n",
        "     \n",
        "print(\"\\nJoining A with B:\",A.union(B)) \n",
        "print(\"Joining B with A:\",B.union(A))\n",
        "\n",
        "#11 Finding is the symmetric difference between A and B\n",
        "print(\"\\nThe symmentric difference is : \",A.symmetric_difference(B)) \n",
        "\n",
        "#12 Deleting the sets completely\n",
        "del A # del is used delete the set\n",
        "del B\n",
        "\n",
        "\n",
        "#13 Convert the ages to a set and compare the length of the list and the set\n",
        "Set = set(age) # set() is used to covert list to set\n",
        "print(\"\\nConverted to set\",Set)\n",
        "print(\"\\nThe length of list is :\",len(age),\"and set is :\",len(Set))"
      ],
      "metadata": {
        "colab": {
          "base_uri": "https://localhost:8080/"
        },
        "id": "ooi-0Udvd7uo",
        "outputId": "8611d6fa-fb6e-4a43-b623-9249fb9d57f3"
      },
      "execution_count": 20,
      "outputs": [
        {
          "output_type": "stream",
          "name": "stdout",
          "text": [
            "Length : 7\n",
            "\n",
            "it_companies: {'IBM', 'Microsoft', 'Google', 'Facebook', 'Oracle', 'Amazon', 'Apple'}\n",
            "\n",
            "Ater adding a company, it_companies: {'IBM', 'Microsoft', 'Google', 'Facebook', 'Oracle', 'Amazon', 'Twitter', 'Apple'}\n",
            "\n",
            "Ater adding multiple companies, it_companies: {'sigma', 'IBM', 'mindtree', 'accenture', 'Microsoft', 'Google', 'Facebook', 'Oracle', 'Amazon', 'Twitter', 'Apple'}\n",
            "\n",
            "Ater deleting a company(i.e., Apple) it_companies:  {'sigma', 'IBM', 'mindtree', 'accenture', 'Microsoft', 'Google', 'Facebook', 'Oracle', 'Amazon', 'Twitter'}\n",
            "\n",
            "dicard usage None\n",
            "\n",
            "After joining A and B, the resultant set: {19, 20, 22, 24, 25, 26, 27, 28}\n",
            "\n",
            "Intersection set : {19, 20, 22, 24, 25, 26}\n",
            "\n",
            "A is subset of B (True/False) : True\n",
            "\n",
            "Are A and B disjoint sets (True/False) : False\n",
            "\n",
            "Joining A with B: {19, 20, 22, 24, 25, 26, 27, 28}\n",
            "Joining B with A: {19, 20, 22, 24, 25, 26, 27, 28}\n",
            "\n",
            "The symmentric difference is :  {27, 28}\n",
            "\n",
            "Converted to set {19, 22, 24, 25, 26}\n",
            "\n",
            "The length of list is : 8 and set is : 5\n"
          ]
        }
      ]
    },
    {
      "cell_type": "code",
      "source": [
        "# Question 5\n",
        "#The radius of a circle is 30 meters.\n",
        "\n",
        "\n",
        "import math\n",
        "\n",
        "constant = math.pi # gets the pi value from math package\n",
        "radius = 30\n",
        "\n",
        "#1 CAlculating the area of a circle:\n",
        "_area_of_circle_ = constant * radius * radius\n",
        "print(\"Area of the circle is :\",_area_of_circle_)\n",
        "\n",
        "#2 Finding the Circumference \n",
        "_circum_of_circle_= 2 * constant * radius\n",
        "print(\"The Circumference is :\",_circum_of_circle_)\n",
        "\n",
        "#3 Considering the input (dynamically)\n",
        "new_radius = float(input(\"Enter radius value: \")) #takes input from user\n",
        "Area = constant * new_radius * new_radius\n",
        "\n",
        "print(\"for the given radius = \",new_radius,\"\\nArea :\",Area)"
      ],
      "metadata": {
        "colab": {
          "base_uri": "https://localhost:8080/"
        },
        "id": "Dr596Ob4jcqX",
        "outputId": "3616d846-2059-4514-fc0d-7b491f0d8dbb"
      },
      "execution_count": 21,
      "outputs": [
        {
          "output_type": "stream",
          "name": "stdout",
          "text": [
            "Area of the circle is : 2827.4333882308138\n",
            "The Circumference is : 188.49555921538757\n",
            "Enter radius value: 4\n",
            "for the given radius =  4.0 \n",
            "Area : 50.26548245743669\n"
          ]
        }
      ]
    },
    {
      "cell_type": "code",
      "source": [
        "# Question 6\n",
        "# “I am a teacher and I love to inspire and teach people”\n",
        "\n",
        "sentence = \"I am a teacher and I love to inspire and teach people\"\n",
        "\n",
        "#Splitting the sentence and getting the unique words or values \n",
        "Split = sentence.split(\" \") # split() is used to split the data by space\n",
        "sp_set = set(Split) #set() is used to covert into set\n",
        "print(\"Set: \",sp_set)\n",
        "print(\"Number of unique words: \",len(sp_set))\n",
        "                          \n"
      ],
      "metadata": {
        "colab": {
          "base_uri": "https://localhost:8080/"
        },
        "id": "llXClpwwl3EG",
        "outputId": "fd760cbc-91a7-4d2f-9756-ef0834474e06"
      },
      "execution_count": 22,
      "outputs": [
        {
          "output_type": "stream",
          "name": "stdout",
          "text": [
            "Set:  {'and', 'to', 'people', 'teach', 'love', 'inspire', 'teacher', 'am', 'I', 'a'}\n",
            "Number of unique words:  10\n"
          ]
        }
      ]
    },
    {
      "cell_type": "code",
      "source": [
        "# Question 7\n",
        "\n",
        "#Use a tab escape sequence to get the following lines.\n",
        "#Name Age Country City  #Asabeneh 250 Finland Helsinki\n",
        "\n",
        "\n",
        "print(\"Name\\tAge\\tCountry\\tCity\\nAsabeneh\\t250\\tFinland\\tHelsinki\") #/t is used to get tab space in the sentence "
      ],
      "metadata": {
        "colab": {
          "base_uri": "https://localhost:8080/"
        },
        "id": "EOulZlHso-Aw",
        "outputId": "97109ddc-91d8-45de-ee9a-0dc4c0a27878"
      },
      "execution_count": 23,
      "outputs": [
        {
          "output_type": "stream",
          "name": "stdout",
          "text": [
            "Name\tAge\tCountry\tCity\n",
            "Asabeneh\t250\tFinland\tHelsinki\n"
          ]
        }
      ]
    },
    {
      "cell_type": "code",
      "source": [
        "# Question 8\n",
        "#Use the string formatting method to display the following:\n",
        "#radius = 10\n",
        "#area = 3.14 * radius ** 2\n",
        "#“The area of a circle with radius 10 is 314 meters square.”\n",
        "\n",
        "radius = 10\n",
        "area = int(3.14 * radius ** 2)\n",
        "\n",
        "#sting formating\n",
        "formatted_area = 'The area of circle with radius {} is {} meters square.'.format(radius, area) #format() is used get output in particular format \n",
        "print(formatted_area)           "
      ],
      "metadata": {
        "colab": {
          "base_uri": "https://localhost:8080/"
        },
        "id": "OSGTNmQmrUz2",
        "outputId": "f0f4fee4-c952-4b13-9a7d-41aeac00e014"
      },
      "execution_count": 24,
      "outputs": [
        {
          "output_type": "stream",
          "name": "stdout",
          "text": [
            "The area of circle with radius 10 is 314 meters square.\n"
          ]
        }
      ]
    },
    {
      "cell_type": "code",
      "source": [
        "# Question 9\n",
        "#Write a program, which reads weights (lbs.) of N students into a list and convert these weights to\n",
        "#kilograms in a separate list using Loop. N: No of students (Read input from user)\n",
        "#Ex: L1: [150, 155, 145, 148]\n",
        "#Output: [68.03, 70.3, 65.77, 67.13]\n",
        "\n",
        "\n",
        "# Taking the input Dynamically\n",
        "n = int(input('Enter the length:')) #int() is used to convert string to integer\n",
        "\n",
        "# Creating two lists one for lbs and other for kilograms\n",
        "list = []\n",
        "con_list =[]\n",
        "for i in range (0,n,1) :\n",
        "    p =  float(input('Enter the value:')) #float() is used to convert string to float\n",
        "    list.append(p)\n",
        "\n",
        "for i in range (0,n,1):\n",
        "      q = list[i] * 0.453592\n",
        "      con_list.append(round(q,2))\n",
        "print(\"\\nConverted to kilograms: \",con_list)\n"
      ],
      "metadata": {
        "colab": {
          "base_uri": "https://localhost:8080/"
        },
        "id": "GvCHBFFeuf4J",
        "outputId": "2ace96c9-c225-4660-acf7-decd0892fb3b"
      },
      "execution_count": 15,
      "outputs": [
        {
          "output_type": "stream",
          "name": "stdout",
          "text": [
            "Enter the length:4\n",
            "Enter the value:150\n",
            "Enter the value:155\n",
            "Enter the value:145\n",
            "Enter the value:148\n",
            "\n",
            "Converted to kilograms:  [68.04, 70.31, 65.77, 67.13]\n"
          ]
        }
      ]
    }
  ]
}